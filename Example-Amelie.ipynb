{
 "cells": [
  {
   "cell_type": "markdown",
   "id": "a08bac43",
   "metadata": {},
   "source": [
    "# Halloween 🎃\n",
    "\n",
    "This is the example notebook for the Halloween session. Please do **not** commit changes to this Notebook, but create a copy (File -> Make a Copy) and then rename the notebook, so the namne includes your name. In the end you can then add your Notebook to the repository using\n",
    "\n",
    "```\n",
    "git add Names_Notebook.ipynb\n",
    "git commit -m 'Adding my notebook' .\n",
    "git push\n",
    "```\n",
    "\n",
    "Have fun!"
   ]
  },
  {
   "cell_type": "code",
   "execution_count": null,
   "id": "51154f66",
   "metadata": {},
   "outputs": [],
   "source": [
    "import time\n",
    "from IPython.display import clear_output\n",
    "from ltr559 import LTR559\n",
    "\n",
    "ltr559 = LTR559()"
   ]
  },
  {
   "cell_type": "markdown",
   "id": "fa4c621e",
   "metadata": {},
   "source": [
    "Proximity is part of the light sensor we already used. First lets make a loop and see the values we get. Click the stop button once you are done playing with the loop."
   ]
  },
  {
   "cell_type": "code",
   "execution_count": null,
   "id": "a16b4a6e",
   "metadata": {},
   "outputs": [],
   "source": [
    "try:\n",
    "    while True:\n",
    "        ltr559.update_sensor()\n",
    "        prox = ltr559.get_proximity()\n",
    "        clear_output(wait=True)\n",
    "\n",
    "        print(prox)\n",
    "        time.sleep(0.05)\n",
    "        \n",
    "except KeyboardInterrupt:\n",
    "    pass"
   ]
  },
  {
   "cell_type": "markdown",
   "id": "4807d73c",
   "metadata": {},
   "source": [
    "### Now let's make it spooky\n",
    "\n",
    "Here we have an image appear is something is close. First we get the needed modules for the LCD display. Also please upload all images you are planning to use to the `Images` folder. **Also make sure to use a unique image name, so we have no conflicts when merging.** Maybe use your name in it as well."
   ]
  },
  {
   "cell_type": "code",
   "execution_count": null,
   "id": "085d5dc7",
   "metadata": {},
   "outputs": [],
   "source": [
    "from PIL import Image\n",
    "import time\n",
    "import ST7735\n",
    "\n",
    "disp = ST7735.ST7735(port=0,cs=1,dc=9,backlight=12,rotation=270,spi_speed_hz=10000000)\n",
    "disp.begin()\n",
    "\n",
    "image = Image.open(\"Images/amelie-bat.png\")\n",
    "image.thumbnail([disp.width, disp.height])"
   ]
  },
  {
   "cell_type": "markdown",
   "id": "f3da9d5d",
   "metadata": {},
   "source": [
    "#### Example: Ghost apears/disappears\n",
    "\n",
    "Here we use the same proximity loop and show or hide the ghost based on the value."
   ]
  },
  {
   "cell_type": "code",
   "execution_count": null,
   "id": "9a5c8de0",
   "metadata": {},
   "outputs": [],
   "source": [
    "try:\n",
    "    while True:\n",
    "        ltr559.update_sensor()\n",
    "        prox = ltr559.get_proximity()\n",
    "\n",
    "        clear_output(wait=True)\n",
    "        print(prox)\n",
    "        \n",
    "        if(prox > 50):\n",
    "            img = Image.new('RGBA', (disp.width, disp.height))\n",
    "            img.paste(image,(int((disp.width-image.width)/2),0))  # this code puts it in the middle of the screen\n",
    "            disp.display(img)\n",
    "        else:\n",
    "            img = Image.new('RGBA', (disp.width, disp.height))\n",
    "            disp.display(img)\n",
    "            \n",
    "        time.sleep(0.5)\n",
    "        \n",
    "except KeyboardInterrupt:\n",
    "    pass"
   ]
  },
  {
   "cell_type": "markdown",
   "id": "2718a972",
   "metadata": {},
   "source": [
    "#### Example: Ghost apears/disappears with changing transparency\n",
    "\n",
    "This time we use the oppacity value to have the ghost gradually appear or disappear. The example is quite similar except for the `image.putalpha(value)` which sets the transparency from fully transparent (0) to fully opaque (255) which replaces the `if` statement."
   ]
  },
  {
   "cell_type": "code",
   "execution_count": null,
   "id": "d211e649",
   "metadata": {},
   "outputs": [],
   "source": [
    "try:\n",
    "    while True:\n",
    "        ltr559.update_sensor()\n",
    "        prox = ltr559.get_proximity()\n",
    "\n",
    "        clear_output(wait=True)\n",
    "        print(prox)\n",
    "        \n",
    "        alpha = min(255, prox)\n",
    "        image.putalpha(alpha)\n",
    "        \n",
    "        img = Image.new('RGBA', (disp.width, disp.height))\n",
    "        img.paste(image,(int((disp.width-image.width)/2),0),image)  # Note we pass image twice, second giving transparency\n",
    "        disp.display(img)\n",
    "            \n",
    "        time.sleep(0.5)\n",
    "        \n",
    "except KeyboardInterrupt:\n",
    "    pass"
   ]
  },
  {
   "cell_type": "markdown",
   "id": "675fd42e",
   "metadata": {},
   "source": [
    "#### Example: Ghost moves with proximity\n",
    "\n",
    "Now we use the proximity value as `x` when pasting the ghost image on the screen."
   ]
  },
  {
   "cell_type": "code",
   "execution_count": null,
   "id": "c66349b0",
   "metadata": {},
   "outputs": [],
   "source": [
    "try:\n",
    "    while True:\n",
    "        ltr559.update_sensor()\n",
    "        prox = ltr559.get_proximity()\n",
    "\n",
    "        clear_output(wait=True)\n",
    "        print(prox)\n",
    "        \n",
    "        position = int(prox/2) - image.width\n",
    "        \n",
    "        img = Image.new('RGBA', (disp.width, disp.height))\n",
    "        img.paste(image,(position,0))\n",
    "        disp.display(img)\n",
    "            \n",
    "        time.sleep(0.5)\n",
    "        \n",
    "except KeyboardInterrupt:\n",
    "    pass"
   ]
  },
  {
   "cell_type": "code",
   "execution_count": null,
   "id": "3edf9246",
   "metadata": {},
   "outputs": [],
   "source": []
  }
 ],
 "metadata": {
  "kernelspec": {
   "display_name": "Python 3",
   "language": "python",
   "name": "python3"
  },
  "language_info": {
   "codemirror_mode": {
    "name": "ipython",
    "version": 3
   },
   "file_extension": ".py",
   "mimetype": "text/x-python",
   "name": "python",
   "nbconvert_exporter": "python",
   "pygments_lexer": "ipython3",
   "version": "3.7.3"
  }
 },
 "nbformat": 4,
 "nbformat_minor": 5
}
